{
  "cells": [
    {
      "cell_type": "markdown",
      "metadata": {
        "id": "JHOtOqpRwJbL"
      },
      "source": [
        "# Function Calling"
      ]
    },
    {
      "cell_type": "markdown",
      "metadata": {
        "id": "hy53n1d9wSzt"
      },
      "source": [
        "https://codelabs.developers.google.com/codelabs/gemini-function-calling?hl=en#1"
      ]
    },
    {
      "cell_type": "markdown",
      "metadata": {
        "id": "WXnnm88V767K"
      },
      "source": [
        "# Authenticate"
      ]
    },
    {
      "cell_type": "code",
      "execution_count": null,
      "metadata": {
        "id": "iQLc8v5O8B4j"
      },
      "outputs": [],
      "source": [
        "from google.colab import auth\n",
        "auth.authenticate_user()\n"
      ]
    },
    {
      "cell_type": "code",
      "execution_count": null,
      "metadata": {
        "id": "7Z8lYrsKDPHW"
      },
      "outputs": [],
      "source": [
        "PROJECT_ID = '[GCP-PROJECT-ID]'"
      ]
    },
    {
      "cell_type": "markdown",
      "metadata": {
        "id": "CB0uXzT_XFEV"
      },
      "source": [
        "# Install Dependencies"
      ]
    },
    {
      "cell_type": "code",
      "execution_count": null,
      "metadata": {
        "colab": {
          "base_uri": "https://localhost:8080/"
        },
        "id": "1CTRTKyicPe1",
        "outputId": "e53c7de6-1913-45f9-9847-71545e3fe8d2"
      },
      "outputs": [
        {
          "name": "stdout",
          "output_type": "stream",
          "text": [
            "Requirement already satisfied: google-cloud-aiplatform in /usr/local/lib/python3.10/dist-packages (1.42.1)\n",
            "Requirement already satisfied: google-api-core[grpc]!=2.0.*,!=2.1.*,!=2.2.*,!=2.3.*,!=2.4.*,!=2.5.*,!=2.6.*,!=2.7.*,<3.0.0dev,>=1.34.1 in /usr/local/lib/python3.10/dist-packages (from google-cloud-aiplatform) (2.11.1)\n",
            "Requirement already satisfied: google-auth<3.0.0dev,>=2.14.1 in /usr/local/lib/python3.10/dist-packages (from google-cloud-aiplatform) (2.27.0)\n",
            "Requirement already satisfied: proto-plus<2.0.0dev,>=1.22.0 in /usr/local/lib/python3.10/dist-packages (from google-cloud-aiplatform) (1.23.0)\n",
            "Requirement already satisfied: protobuf!=3.20.0,!=3.20.1,!=4.21.0,!=4.21.1,!=4.21.2,!=4.21.3,!=4.21.4,!=4.21.5,<5.0.0dev,>=3.19.5 in /usr/local/lib/python3.10/dist-packages (from google-cloud-aiplatform) (3.20.3)\n",
            "Requirement already satisfied: packaging>=14.3 in /usr/local/lib/python3.10/dist-packages (from google-cloud-aiplatform) (23.2)\n",
            "Requirement already satisfied: google-cloud-storage<3.0.0dev,>=1.32.0 in /usr/local/lib/python3.10/dist-packages (from google-cloud-aiplatform) (2.8.0)\n",
            "Requirement already satisfied: google-cloud-bigquery<4.0.0dev,>=1.15.0 in /usr/local/lib/python3.10/dist-packages (from google-cloud-aiplatform) (3.12.0)\n",
            "Requirement already satisfied: google-cloud-resource-manager<3.0.0dev,>=1.3.3 in /usr/local/lib/python3.10/dist-packages (from google-cloud-aiplatform) (1.12.1)\n",
            "Requirement already satisfied: shapely<3.0.0dev in /usr/local/lib/python3.10/dist-packages (from google-cloud-aiplatform) (2.0.3)\n",
            "Requirement already satisfied: googleapis-common-protos<2.0.dev0,>=1.56.2 in /usr/local/lib/python3.10/dist-packages (from google-api-core[grpc]!=2.0.*,!=2.1.*,!=2.2.*,!=2.3.*,!=2.4.*,!=2.5.*,!=2.6.*,!=2.7.*,<3.0.0dev,>=1.34.1->google-cloud-aiplatform) (1.62.0)\n",
            "Requirement already satisfied: requests<3.0.0.dev0,>=2.18.0 in /usr/local/lib/python3.10/dist-packages (from google-api-core[grpc]!=2.0.*,!=2.1.*,!=2.2.*,!=2.3.*,!=2.4.*,!=2.5.*,!=2.6.*,!=2.7.*,<3.0.0dev,>=1.34.1->google-cloud-aiplatform) (2.31.0)\n",
            "Requirement already satisfied: grpcio<2.0dev,>=1.33.2 in /usr/local/lib/python3.10/dist-packages (from google-api-core[grpc]!=2.0.*,!=2.1.*,!=2.2.*,!=2.3.*,!=2.4.*,!=2.5.*,!=2.6.*,!=2.7.*,<3.0.0dev,>=1.34.1->google-cloud-aiplatform) (1.60.1)\n",
            "Requirement already satisfied: grpcio-status<2.0.dev0,>=1.33.2 in /usr/local/lib/python3.10/dist-packages (from google-api-core[grpc]!=2.0.*,!=2.1.*,!=2.2.*,!=2.3.*,!=2.4.*,!=2.5.*,!=2.6.*,!=2.7.*,<3.0.0dev,>=1.34.1->google-cloud-aiplatform) (1.48.2)\n",
            "Requirement already satisfied: cachetools<6.0,>=2.0.0 in /usr/local/lib/python3.10/dist-packages (from google-auth<3.0.0dev,>=2.14.1->google-cloud-aiplatform) (5.3.2)\n",
            "Requirement already satisfied: pyasn1-modules>=0.2.1 in /usr/local/lib/python3.10/dist-packages (from google-auth<3.0.0dev,>=2.14.1->google-cloud-aiplatform) (0.3.0)\n",
            "Requirement already satisfied: rsa<5,>=3.1.4 in /usr/local/lib/python3.10/dist-packages (from google-auth<3.0.0dev,>=2.14.1->google-cloud-aiplatform) (4.9)\n",
            "Requirement already satisfied: google-cloud-core<3.0.0dev,>=1.6.0 in /usr/local/lib/python3.10/dist-packages (from google-cloud-bigquery<4.0.0dev,>=1.15.0->google-cloud-aiplatform) (2.3.3)\n",
            "Requirement already satisfied: google-resumable-media<3.0dev,>=0.6.0 in /usr/local/lib/python3.10/dist-packages (from google-cloud-bigquery<4.0.0dev,>=1.15.0->google-cloud-aiplatform) (2.7.0)\n",
            "Requirement already satisfied: python-dateutil<3.0dev,>=2.7.2 in /usr/local/lib/python3.10/dist-packages (from google-cloud-bigquery<4.0.0dev,>=1.15.0->google-cloud-aiplatform) (2.8.2)\n",
            "Requirement already satisfied: grpc-google-iam-v1<1.0.0dev,>=0.12.4 in /usr/local/lib/python3.10/dist-packages (from google-cloud-resource-manager<3.0.0dev,>=1.3.3->google-cloud-aiplatform) (0.13.0)\n",
            "Requirement already satisfied: numpy<2,>=1.14 in /usr/local/lib/python3.10/dist-packages (from shapely<3.0.0dev->google-cloud-aiplatform) (1.25.2)\n",
            "Requirement already satisfied: google-crc32c<2.0dev,>=1.0 in /usr/local/lib/python3.10/dist-packages (from google-resumable-media<3.0dev,>=0.6.0->google-cloud-bigquery<4.0.0dev,>=1.15.0->google-cloud-aiplatform) (1.5.0)\n",
            "Requirement already satisfied: pyasn1<0.6.0,>=0.4.6 in /usr/local/lib/python3.10/dist-packages (from pyasn1-modules>=0.2.1->google-auth<3.0.0dev,>=2.14.1->google-cloud-aiplatform) (0.5.1)\n",
            "Requirement already satisfied: six>=1.5 in /usr/local/lib/python3.10/dist-packages (from python-dateutil<3.0dev,>=2.7.2->google-cloud-bigquery<4.0.0dev,>=1.15.0->google-cloud-aiplatform) (1.16.0)\n",
            "Requirement already satisfied: charset-normalizer<4,>=2 in /usr/local/lib/python3.10/dist-packages (from requests<3.0.0.dev0,>=2.18.0->google-api-core[grpc]!=2.0.*,!=2.1.*,!=2.2.*,!=2.3.*,!=2.4.*,!=2.5.*,!=2.6.*,!=2.7.*,<3.0.0dev,>=1.34.1->google-cloud-aiplatform) (3.3.2)\n",
            "Requirement already satisfied: idna<4,>=2.5 in /usr/local/lib/python3.10/dist-packages (from requests<3.0.0.dev0,>=2.18.0->google-api-core[grpc]!=2.0.*,!=2.1.*,!=2.2.*,!=2.3.*,!=2.4.*,!=2.5.*,!=2.6.*,!=2.7.*,<3.0.0dev,>=1.34.1->google-cloud-aiplatform) (3.6)\n",
            "Requirement already satisfied: urllib3<3,>=1.21.1 in /usr/local/lib/python3.10/dist-packages (from requests<3.0.0.dev0,>=2.18.0->google-api-core[grpc]!=2.0.*,!=2.1.*,!=2.2.*,!=2.3.*,!=2.4.*,!=2.5.*,!=2.6.*,!=2.7.*,<3.0.0dev,>=1.34.1->google-cloud-aiplatform) (2.0.7)\n",
            "Requirement already satisfied: certifi>=2017.4.17 in /usr/local/lib/python3.10/dist-packages (from requests<3.0.0.dev0,>=2.18.0->google-api-core[grpc]!=2.0.*,!=2.1.*,!=2.2.*,!=2.3.*,!=2.4.*,!=2.5.*,!=2.6.*,!=2.7.*,<3.0.0dev,>=1.34.1->google-cloud-aiplatform) (2024.2.2)\n"
          ]
        }
      ],
      "source": [
        "!pip install --upgrade google-cloud-aiplatform # Vertex AI module"
      ]
    },
    {
      "cell_type": "markdown",
      "metadata": {
        "id": "N9sTKJ0GtLMK"
      },
      "source": [
        "# Libraries"
      ]
    },
    {
      "cell_type": "code",
      "execution_count": null,
      "metadata": {
        "id": "O6Vgr-HgPrVE"
      },
      "outputs": [],
      "source": [
        "import vertexai\n",
        "from vertexai.preview.generative_models import GenerativeModel\n",
        "vertexai.init(project=PROJECT_ID)\n",
        "model = GenerativeModel(\"gemini-pro\")"
      ]
    },
    {
      "cell_type": "markdown",
      "metadata": {
        "id": "J3APpr6eEkxI"
      },
      "source": [
        "# Basic Prompt"
      ]
    },
    {
      "cell_type": "code",
      "execution_count": null,
      "metadata": {
        "colab": {
          "base_uri": "https://localhost:8080/"
        },
        "id": "QGEaONIxtSOZ",
        "outputId": "0a751f06-9f24-4c1f-f57d-825d82ae48fe"
      },
      "outputs": [
        {
          "name": "stdout",
          "output_type": "stream",
          "text": [
            "I do not have access to real-time information, including current exchange rates. To get the most up-to-date exchange rate, you can check a currency converter or a financial news source.\n"
          ]
        }
      ],
      "source": [
        "response = model.generate_content(\n",
        "    \"What's the exchange rate for euros to dollars today?\"\n",
        ")\n",
        "print(response.text)"
      ]
    },
    {
      "cell_type": "markdown",
      "metadata": {
        "id": "OeuUYMnNwnh4"
      },
      "source": [
        "# Specific Prompt"
      ]
    },
    {
      "cell_type": "code",
      "execution_count": null,
      "metadata": {
        "colab": {
          "base_uri": "https://localhost:8080/"
        },
        "id": "6VRetz0NwnHy",
        "outputId": "27a64b3e-811c-4036-dff5-ddf0e5a7f042"
      },
      "outputs": [
        {
          "name": "stdout",
          "output_type": "stream",
          "text": [
            "```json\n",
            "{\n",
            "  \"fromCurrency\": \"euros\",\n",
            "  \"toCurrency\": \"US dollars\"\n",
            "}\n",
            "```\n"
          ]
        }
      ],
      "source": [
        "user_prompt = \"What's the exchange rate from euros to US dollars today?\"\n",
        "\n",
        "response = model.generate_content(\"\"\"\n",
        "Your task is to extract parameters from the user's input and return it as a\n",
        "structured JSON payload. The user will ask about the exchange rate and which\n",
        "currency they are converting from and converting to.\n",
        "\n",
        "User input: {user_prompt}\n",
        "\n",
        "Please extract the currencies as parameters and put them in a JSON object.\n",
        "\"\"\".format(user_prompt=user_prompt))\n",
        "print(response.text)"
      ]
    },
    {
      "cell_type": "markdown",
      "metadata": {
        "id": "_C4ZFnoHwb-q"
      },
      "source": [
        "# Function Calling"
      ]
    },
    {
      "cell_type": "markdown",
      "metadata": {
        "id": "fS0p-GDKMcxo"
      },
      "source": [
        "## Choosing API"
      ]
    },
    {
      "cell_type": "code",
      "execution_count": null,
      "metadata": {
        "colab": {
          "base_uri": "https://localhost:8080/",
          "height": 70
        },
        "id": "ZsuRv7pcMew_",
        "outputId": "08480fcc-c862-4575-9871-a0b8e0c0aff9"
      },
      "outputs": [
        {
          "data": {
            "application/vnd.google.colaboratory.intrinsic+json": {
              "type": "string"
            },
            "text/plain": [
              "'{\"amount\":1.0,\"base\":\"EUR\",\"date\":\"2024-02-27\",\"rates\":{\"AUD\":1.6565,\"BGN\":1.9558,\"BRL\":5.3945,\"CAD\":1.465,\"CHF\":0.9544,\"CNY\":7.814,\"CZK\":25.332,\"DKK\":7.4551,\"GBP\":0.8562,\"HKD\":8.4947,\"HUF\":390.2,\"IDR\":16976,\"ILS\":3.9342,\"INR\":89.98,\"ISK\":149.3,\"JPY\":163.04,\"KRW\":1445.31,\"MXN\":18.5221,\"MYR\":5.1696,\"NOK\":11.431,\"NZD\":1.7601,\"PHP\":60.902,\"PLN\":4.3153,\"RON\":4.9668,\"SEK\":11.1805,\"SGD\":1.4584,\"THB\":38.932,\"TRY\":33.813,\"USD\":1.0856,\"ZAR\":20.772}}'"
            ]
          },
          "execution_count": 7,
          "metadata": {},
          "output_type": "execute_result"
        }
      ],
      "source": [
        "import requests\n",
        "url = \"https://api.frankfurter.app/latest\"\n",
        "response = requests.get(url)\n",
        "response.text"
      ]
    },
    {
      "cell_type": "code",
      "execution_count": null,
      "metadata": {
        "id": "db4rEbJISDFy"
      },
      "outputs": [],
      "source": [
        "from vertexai.preview.generative_models import (\n",
        "    Content,\n",
        "    FunctionDeclaration,\n",
        "    GenerativeModel,\n",
        "    Part,\n",
        "    Tool,\n",
        ")\n",
        "\n",
        "model = GenerativeModel(\"gemini-pro\")"
      ]
    },
    {
      "cell_type": "markdown",
      "metadata": {
        "id": "94Yw3PkSN93o"
      },
      "source": [
        "## Function Declaration"
      ]
    },
    {
      "cell_type": "code",
      "execution_count": null,
      "metadata": {
        "id": "xx4V2CNvNqVq"
      },
      "outputs": [],
      "source": [
        "get_exchange_rate_func = FunctionDeclaration(\n",
        "    name=\"get_exchange_rate\",\n",
        "    description=\"Get the exchange rate for currencies between countries\",\n",
        "    parameters={\n",
        "    \"type\": \"object\",\n",
        "    \"properties\": {\n",
        "        \"currency_date\": {\n",
        "            \"type\": \"string\",\n",
        "            \"description\": \"A date that must always be in YYYY-MM-DD format or the value 'latest' if a time period is not specified\"\n",
        "        },\n",
        "        \"currency_from\": {\n",
        "            \"type\": \"string\",\n",
        "            \"description\": \"The currency to convert from in ISO 4217 format\"\n",
        "        },\n",
        "        \"currency_to\": {\n",
        "            \"type\": \"string\",\n",
        "            \"description\": \"The currency to convert to in ISO 4217 format\"\n",
        "        }\n",
        "    },\n",
        "         \"required\": [\n",
        "            \"currency_from\",\n",
        "            \"currency_date\",\n",
        "      ]\n",
        "  },\n",
        ")"
      ]
    },
    {
      "cell_type": "markdown",
      "metadata": {
        "id": "NLJYi91nOFUu"
      },
      "source": [
        "## Tool"
      ]
    },
    {
      "cell_type": "code",
      "execution_count": null,
      "metadata": {
        "id": "pSLH_7DZN7Qd"
      },
      "outputs": [],
      "source": [
        "exchange_rate_tool = Tool(\n",
        "    function_declarations=[get_exchange_rate_func],\n",
        ")"
      ]
    },
    {
      "cell_type": "markdown",
      "metadata": {
        "id": "d5oBAKuXOUz2"
      },
      "source": [
        "## Function Calling"
      ]
    },
    {
      "cell_type": "code",
      "execution_count": null,
      "metadata": {
        "id": "MC-ewdU6Ou1k"
      },
      "outputs": [],
      "source": [
        "prompt = \"\"\"What is the exchange rate from British Pounds to US Dollars?\n",
        "How much is 500 British Pounds worth in US Dollars?\"\"\"\n",
        "\n",
        "response = model.generate_content(\n",
        "    prompt,\n",
        "    tools=[exchange_rate_tool],\n",
        ")"
      ]
    },
    {
      "cell_type": "code",
      "execution_count": null,
      "metadata": {
        "colab": {
          "base_uri": "https://localhost:8080/"
        },
        "id": "ykymg6nsSNPz",
        "outputId": "3eefcdec-4b41-42d3-eb49-e91d7bfda5dd"
      },
      "outputs": [
        {
          "name": "stdout",
          "output_type": "stream",
          "text": [
            "role: \"model\"\n",
            "parts {\n",
            "  function_call {\n",
            "    name: \"get_exchange_rate\"\n",
            "    args {\n",
            "      fields {\n",
            "        key: \"currency_date\"\n",
            "        value {\n",
            "          string_value: \"latest\"\n",
            "        }\n",
            "      }\n",
            "      fields {\n",
            "        key: \"currency_from\"\n",
            "        value {\n",
            "          string_value: \"GBP\"\n",
            "        }\n",
            "      }\n",
            "      fields {\n",
            "        key: \"currency_to\"\n",
            "        value {\n",
            "          string_value: \"USD\"\n",
            "        }\n",
            "      }\n",
            "    }\n",
            "  }\n",
            "}\n",
            "\n"
          ]
        }
      ],
      "source": [
        "# print(response.candidates)\n",
        "print(response.candidates[0].content)"
      ]
    },
    {
      "cell_type": "markdown",
      "metadata": {
        "id": "9vYpBWfzSdZZ"
      },
      "source": [
        "## Make an API Request"
      ]
    },
    {
      "cell_type": "code",
      "execution_count": null,
      "metadata": {
        "colab": {
          "base_uri": "https://localhost:8080/"
        },
        "id": "cR2plASTSfQ6",
        "outputId": "40e98779-28c4-4d76-eafb-ea20f654bd03"
      },
      "outputs": [
        {
          "data": {
            "text/plain": [
              "{'from': 'GBP', 'to': 'USD', 'date': 'latest'}"
            ]
          },
          "execution_count": 13,
          "metadata": {},
          "output_type": "execute_result"
        }
      ],
      "source": [
        "params = {}\n",
        "for key, value in response.candidates[0].content.parts[0].function_call.args.items():\n",
        "    params[key[9:]] = value\n",
        "params"
      ]
    },
    {
      "cell_type": "code",
      "execution_count": null,
      "metadata": {
        "colab": {
          "base_uri": "https://localhost:8080/",
          "height": 35
        },
        "id": "Ou1-oJO-Sqfp",
        "outputId": "ffcf007a-85d9-4764-da2d-3661816e331e"
      },
      "outputs": [
        {
          "data": {
            "application/vnd.google.colaboratory.intrinsic+json": {
              "type": "string"
            },
            "text/plain": [
              "'{\"amount\":1.0,\"base\":\"GBP\",\"date\":\"2024-02-27\",\"rates\":{\"USD\":1.2679}}'"
            ]
          },
          "execution_count": 14,
          "metadata": {},
          "output_type": "execute_result"
        }
      ],
      "source": [
        "import requests\n",
        "url = f\"https://api.frankfurter.app/{params['date']}\"\n",
        "api_response = requests.get(url, params=params)\n",
        "api_response.text"
      ]
    },
    {
      "cell_type": "markdown",
      "metadata": {
        "id": "5HwOULSCMkgZ"
      },
      "source": [
        "## Result"
      ]
    },
    {
      "cell_type": "code",
      "execution_count": null,
      "metadata": {
        "colab": {
          "base_uri": "https://localhost:8080/",
          "height": 53
        },
        "id": "9Sio-bsyS8-e",
        "outputId": "6c9e0153-b9e1-4531-d1eb-3e1b5d126227"
      },
      "outputs": [
        {
          "data": {
            "application/vnd.google.colaboratory.intrinsic+json": {
              "type": "string"
            },
            "text/plain": [
              "'The exchange rate from British Pounds to US Dollars on 2024-02-27 is 1.2679.\\nThis means that 1 British Pound is worth 1.2679 US Dollars.\\n\\nTo convert 500 British Pounds to US Dollars, we multiply 500 by the exchange rate.\\n\\n500 * 1.2679 = 633.95 US Dollars\\n\\nTherefore, 500 British Pounds is worth 633.95 US Dollars.'"
            ]
          },
          "execution_count": 15,
          "metadata": {},
          "output_type": "execute_result"
        }
      ],
      "source": [
        "response = model.generate_content(\n",
        "    [\n",
        "    Content(role=\"user\", parts=[\n",
        "        Part.from_text(prompt + \"\"\"Give your answer in steps with lots of detail\n",
        "            and context, including the exchange rate and date.\"\"\"),\n",
        "    ]),\n",
        "    Content(role=\"function\", parts=[\n",
        "        Part.from_dict({\n",
        "            \"function_call\": {\n",
        "                \"name\": \"get_exchange_rate\",\n",
        "            }\n",
        "        })\n",
        "    ]),\n",
        "    Content(role=\"function\", parts=[\n",
        "        Part.from_function_response(\n",
        "            name=\"get_exchange_rate\",\n",
        "            response={\n",
        "                \"content\": api_response.text,\n",
        "            }\n",
        "        )\n",
        "    ]),\n",
        "    ],\n",
        "    tools=[exchange_rate_tool],\n",
        ")\n",
        "\n",
        "\n",
        "response.candidates[0].content.parts[0].text"
      ]
    },
    {
      "cell_type": "code",
      "execution_count": null,
      "metadata": {
        "id": "LP34WkhOrJkC"
      },
      "outputs": [],
      "source": []
    }
  ],
  "metadata": {
    "colab": {
      "provenance": []
    },
    "kernelspec": {
      "display_name": "Python 3",
      "name": "python3"
    },
    "language_info": {
      "name": "python"
    }
  },
  "nbformat": 4,
  "nbformat_minor": 0
}
